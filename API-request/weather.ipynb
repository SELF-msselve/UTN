{
 "cells": [
  {
   "cell_type": "code",
   "execution_count": 3,
   "metadata": {},
   "outputs": [
    {
     "data": {
      "text/plain": [
       "'[{\"name\": \"Municipio de Rada Tilly\", \"latitude\": -45.925919, \"longitude\": -67.5533438, \"country\": \"AR\", \"state\": \"Chubut Province\"}]'"
      ]
     },
     "execution_count": 3,
     "metadata": {},
     "output_type": "execute_result"
    }
   ],
   "source": [
    "import requests\n",
    "import pandas as pd\n",
    "\n",
    "ciudad = 'rada tilly'\n",
    "pais = 'argentina'\n",
    "\n",
    "buscador = 'https://api.api-ninjas.com/v1/geocoding?city=' + ciudad + '&country=' + pais\n",
    "\n",
    "direccion = requests.get(buscador, headers={'X-Api-Key': 'YO3DOw3APQguBKsqQq0nMA==acw96vJrBQsSnpeG'})\n",
    "\n",
    "direccion.text"
   ]
  },
  {
   "cell_type": "code",
   "execution_count": 8,
   "metadata": {},
   "outputs": [
    {
     "data": {
      "text/plain": [
       "-45.925919"
      ]
     },
     "execution_count": 8,
     "metadata": {},
     "output_type": "execute_result"
    }
   ],
   "source": [
    "direccion_dict = direccion.json()\n",
    "direccion_pd = pd.DataFrame.from_dict(direccion_dict)\n",
    "\n",
    "direccion_pd.iloc[0,1]\n"
   ]
  },
  {
   "cell_type": "code",
   "execution_count": 28,
   "metadata": {},
   "outputs": [
    {
     "data": {
      "text/plain": [
       "'https://api.open-meteo.com/v1/forecast?latitude=-45.925919&longitude=-67.5533438&hourly=temperature_2m,precipitation_probability,surface_pressure,wind_speed_10m&forecast_days=10'"
      ]
     },
     "execution_count": 28,
     "metadata": {},
     "output_type": "execute_result"
    }
   ],
   "source": [
    "fechaStart = '2024-03-09'\n",
    "fechafin = '2024-03-10'\n",
    "#clima = 'https://api.open-meteo.com/v1/forecast?latitude=' + str(direccion_pd.iloc[0,1]) + '&longitude=' + str(direccion_pd.iloc[0,2]) + '&hourly=temperature_2m,wind_speed_10m&start_date=' + fechaStart + '&end_date=' + fechafin\n",
    "clima = 'https://api.open-meteo.com/v1/forecast?latitude=' + str(direccion_pd.iloc[0,1]) + '&longitude=' + str(direccion_pd.iloc[0,2]) + '&hourly=temperature_2m,precipitation_probability,surface_pressure,wind_speed_10m&forecast_days=10'\n",
    "clima"
   ]
  },
  {
   "cell_type": "code",
   "execution_count": 29,
   "metadata": {},
   "outputs": [],
   "source": [
    "response = requests.get(clima)\n",
    "response_dict = response.json()\n",
    "new = pd.DataFrame.from_dict(response_dict['hourly'])"
   ]
  },
  {
   "cell_type": "code",
   "execution_count": 30,
   "metadata": {},
   "outputs": [
    {
     "data": {
      "text/html": [
       "<div>\n",
       "<style scoped>\n",
       "    .dataframe tbody tr th:only-of-type {\n",
       "        vertical-align: middle;\n",
       "    }\n",
       "\n",
       "    .dataframe tbody tr th {\n",
       "        vertical-align: top;\n",
       "    }\n",
       "\n",
       "    .dataframe thead th {\n",
       "        text-align: right;\n",
       "    }\n",
       "</style>\n",
       "<table border=\"1\" class=\"dataframe\">\n",
       "  <thead>\n",
       "    <tr style=\"text-align: right;\">\n",
       "      <th></th>\n",
       "      <th>time</th>\n",
       "      <th>temperature_2m</th>\n",
       "      <th>precipitation_probability</th>\n",
       "      <th>surface_pressure</th>\n",
       "      <th>wind_speed_10m</th>\n",
       "    </tr>\n",
       "  </thead>\n",
       "  <tbody>\n",
       "    <tr>\n",
       "      <th>0</th>\n",
       "      <td>2024-03-11T00:00</td>\n",
       "      <td>19.6</td>\n",
       "      <td>0.0</td>\n",
       "      <td>1002.3</td>\n",
       "      <td>29.6</td>\n",
       "    </tr>\n",
       "    <tr>\n",
       "      <th>1</th>\n",
       "      <td>2024-03-11T01:00</td>\n",
       "      <td>18.6</td>\n",
       "      <td>0.0</td>\n",
       "      <td>1002.9</td>\n",
       "      <td>30.0</td>\n",
       "    </tr>\n",
       "    <tr>\n",
       "      <th>2</th>\n",
       "      <td>2024-03-11T02:00</td>\n",
       "      <td>17.8</td>\n",
       "      <td>0.0</td>\n",
       "      <td>1002.9</td>\n",
       "      <td>28.6</td>\n",
       "    </tr>\n",
       "    <tr>\n",
       "      <th>3</th>\n",
       "      <td>2024-03-11T03:00</td>\n",
       "      <td>17.0</td>\n",
       "      <td>0.0</td>\n",
       "      <td>1003.5</td>\n",
       "      <td>30.4</td>\n",
       "    </tr>\n",
       "    <tr>\n",
       "      <th>4</th>\n",
       "      <td>2024-03-11T04:00</td>\n",
       "      <td>16.4</td>\n",
       "      <td>0.0</td>\n",
       "      <td>1003.8</td>\n",
       "      <td>31.0</td>\n",
       "    </tr>\n",
       "    <tr>\n",
       "      <th>...</th>\n",
       "      <td>...</td>\n",
       "      <td>...</td>\n",
       "      <td>...</td>\n",
       "      <td>...</td>\n",
       "      <td>...</td>\n",
       "    </tr>\n",
       "    <tr>\n",
       "      <th>235</th>\n",
       "      <td>2024-03-20T19:00</td>\n",
       "      <td>11.4</td>\n",
       "      <td>NaN</td>\n",
       "      <td>991.2</td>\n",
       "      <td>25.8</td>\n",
       "    </tr>\n",
       "    <tr>\n",
       "      <th>236</th>\n",
       "      <td>2024-03-20T20:00</td>\n",
       "      <td>11.8</td>\n",
       "      <td>NaN</td>\n",
       "      <td>991.7</td>\n",
       "      <td>29.9</td>\n",
       "    </tr>\n",
       "    <tr>\n",
       "      <th>237</th>\n",
       "      <td>2024-03-20T21:00</td>\n",
       "      <td>12.2</td>\n",
       "      <td>NaN</td>\n",
       "      <td>992.4</td>\n",
       "      <td>28.1</td>\n",
       "    </tr>\n",
       "    <tr>\n",
       "      <th>238</th>\n",
       "      <td>2024-03-20T22:00</td>\n",
       "      <td>12.6</td>\n",
       "      <td>NaN</td>\n",
       "      <td>993.4</td>\n",
       "      <td>15.9</td>\n",
       "    </tr>\n",
       "    <tr>\n",
       "      <th>239</th>\n",
       "      <td>2024-03-20T23:00</td>\n",
       "      <td>13.0</td>\n",
       "      <td>NaN</td>\n",
       "      <td>994.6</td>\n",
       "      <td>10.1</td>\n",
       "    </tr>\n",
       "  </tbody>\n",
       "</table>\n",
       "<p>240 rows × 5 columns</p>\n",
       "</div>"
      ],
      "text/plain": [
       "                 time  temperature_2m  precipitation_probability  \\\n",
       "0    2024-03-11T00:00            19.6                        0.0   \n",
       "1    2024-03-11T01:00            18.6                        0.0   \n",
       "2    2024-03-11T02:00            17.8                        0.0   \n",
       "3    2024-03-11T03:00            17.0                        0.0   \n",
       "4    2024-03-11T04:00            16.4                        0.0   \n",
       "..                ...             ...                        ...   \n",
       "235  2024-03-20T19:00            11.4                        NaN   \n",
       "236  2024-03-20T20:00            11.8                        NaN   \n",
       "237  2024-03-20T21:00            12.2                        NaN   \n",
       "238  2024-03-20T22:00            12.6                        NaN   \n",
       "239  2024-03-20T23:00            13.0                        NaN   \n",
       "\n",
       "     surface_pressure  wind_speed_10m  \n",
       "0              1002.3            29.6  \n",
       "1              1002.9            30.0  \n",
       "2              1002.9            28.6  \n",
       "3              1003.5            30.4  \n",
       "4              1003.8            31.0  \n",
       "..                ...             ...  \n",
       "235             991.2            25.8  \n",
       "236             991.7            29.9  \n",
       "237             992.4            28.1  \n",
       "238             993.4            15.9  \n",
       "239             994.6            10.1  \n",
       "\n",
       "[240 rows x 5 columns]"
      ]
     },
     "execution_count": 30,
     "metadata": {},
     "output_type": "execute_result"
    }
   ],
   "source": [
    "new\n"
   ]
  }
 ],
 "metadata": {
  "kernelspec": {
   "display_name": "base",
   "language": "python",
   "name": "python3"
  },
  "language_info": {
   "codemirror_mode": {
    "name": "ipython",
    "version": 3
   },
   "file_extension": ".py",
   "mimetype": "text/x-python",
   "name": "python",
   "nbconvert_exporter": "python",
   "pygments_lexer": "ipython3",
   "version": "3.9.16"
  }
 },
 "nbformat": 4,
 "nbformat_minor": 2
}

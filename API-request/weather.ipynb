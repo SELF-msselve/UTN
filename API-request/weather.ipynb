{
 "cells": [
  {
   "cell_type": "code",
   "execution_count": 3,
   "metadata": {},
   "outputs": [
    {
     "data": {
      "text/plain": [
       "'[{\"name\": \"Municipio de Rada Tilly\", \"latitude\": -45.925919, \"longitude\": -67.5533438, \"country\": \"AR\", \"state\": \"Chubut Province\"}]'"
      ]
     },
     "execution_count": 3,
     "metadata": {},
     "output_type": "execute_result"
    }
   ],
   "source": [
    "import requests\n",
    "import pandas as pd\n",
    "\n",
    "ciudad = 'rada tilly'\n",
    "pais = 'argentina'\n",
    "\n",
    "buscador = 'https://api.api-ninjas.com/v1/geocoding?city=' + ciudad + '&country=' + pais\n",
    "\n",
    "direccion = requests.get(buscador, headers={'X-Api-Key': 'YO3DOw3APQguBKsqQq0nMA==acw96vJrBQsSnpeG'})\n",
    "\n",
    "direccion.text"
   ]
  },
  {
   "cell_type": "code",
   "execution_count": 13,
   "metadata": {},
   "outputs": [
    {
     "data": {
      "text/plain": [
       "0   -45.925919\n",
       "Name: latitude, dtype: float64"
      ]
     },
     "execution_count": 13,
     "metadata": {},
     "output_type": "execute_result"
    }
   ],
   "source": [
    "direccion_dict = direccion.json()\n",
    "direccion_pd = pd.DataFrame.from_dict(direccion_dict)\n",
    "\n",
    "direccion_pd['latitude']"
   ]
  },
  {
   "cell_type": "code",
   "execution_count": 12,
   "metadata": {},
   "outputs": [
    {
     "data": {
      "text/plain": [
       "'https://api.open-meteo.com/v1/forecast?latitude=0   -45.925919\\nName: latitude, dtype: float64&longitude=0   -67.553344\\nName: longitude, dtype: float64&hourly=temperature_2m,wind_speed_10m&start_date=2024-03-02&end_date=2024-03-09'"
      ]
     },
     "execution_count": 12,
     "metadata": {},
     "output_type": "execute_result"
    }
   ],
   "source": [
    "clima = 'https://api.open-meteo.com/v1/forecast?latitude=' + str(direccion_pd.latitude) + '&longitude=' + str(direccion_pd.longitude) + '&hourly=temperature_2m,wind_speed_10m&start_date=2024-03-02&end_date=2024-03-09'\n",
    "clima\n"
   ]
  },
  {
   "cell_type": "code",
   "execution_count": null,
   "metadata": {},
   "outputs": [],
   "source": [
    "response = requests.get(clima)\n",
    "response_dict = response.json()\n",
    "new = pd.DataFrame.from_dict(response_dict['hourly'])\n",
    "\n",
    "new"
   ]
  }
 ],
 "metadata": {
  "kernelspec": {
   "display_name": "base",
   "language": "python",
   "name": "python3"
  },
  "language_info": {
   "codemirror_mode": {
    "name": "ipython",
    "version": 3
   },
   "file_extension": ".py",
   "mimetype": "text/x-python",
   "name": "python",
   "nbconvert_exporter": "python",
   "pygments_lexer": "ipython3",
   "version": "3.9.16"
  }
 },
 "nbformat": 4,
 "nbformat_minor": 2
}

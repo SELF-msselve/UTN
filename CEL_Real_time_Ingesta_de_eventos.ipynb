{
  "nbformat": 4,
  "nbformat_minor": 0,
  "metadata": {
    "colab": {
      "provenance": [],
      "include_colab_link": true
    },
    "kernelspec": {
      "name": "python3",
      "display_name": "Python 3"
    },
    "language_info": {
      "name": "python"
    }
  },
  "cells": [
    {
      "cell_type": "markdown",
      "metadata": {
        "id": "view-in-github",
        "colab_type": "text"
      },
      "source": [
        "<a href=\"https://colab.research.google.com/github/SELF-msselve/UTN/blob/main/CEL_Real_time_Ingesta_de_eventos.ipynb\" target=\"_parent\"><img src=\"https://colab.research.google.com/assets/colab-badge.svg\" alt=\"Open In Colab\"/></a>"
      ]
    },
    {
      "cell_type": "markdown",
      "source": [
        "## Introducción\n",
        "Cuando se trata de datos en tiempo real, las fuentes u orígenes transmiten datos, en intervalos regulares o irregulares. Esos datos datos en tiempo real, podríamos llamarlos eventos o mensajes.\n",
        "\n",
        "Los mensajes deben ser enviados o dirigidos a una plataforma especial, como Apache Kafka. Otras alternativas a Kafka son Apache Pulsar, Amazon Kinesis, Google PubSub, Azure Event Hubs, entre otros.\n",
        "\n",
        "Estas plataformas facilitan y estandarizan el acceso y la disponibilización a este tipo de datos. Sin estas plataformas, el intercambio de datos entre varios sistemas sería costoso y difícil de mantener, como se refleja en esta [imágen](https://www.conduktor.io/kafka/_next/image/?url=https%3A%2F%2Fimages.ctfassets.net%2Fo12xgu4mepom%2F15MPdLa9Vh84mmRt8stbU0%2Fb6c1edfc8d23b88e63a06f89c2b2e1af%2FWhat_is_Apache_Kafka_Part_1_-_Data_Integration_Challenges.png&w=1920&q=75). A diferencia de esta [imágen](https://www.conduktor.io/kafka/_next/image/?url=https%3A%2F%2Fimages.ctfassets.net%2Fo12xgu4mepom%2FZm4Nu6YFkYuZrBoALR2yw%2F4f2063a4c2d070d0cf0a9f56b1624e64%2FWhat_is_Apache_Kafka_Part_1_-_Use_Cases_and_Applications.png&w=3840&q=75) donde los datos se concentran en Kafka.\n",
        "\n",
        "Por último, [acá](https://eng.uber.com/wp-content/uploads/2016/08/image00.png) podes ver, en alto nivel, como Uber usa Kafka para entregar diferentes tipos de eventos a diferentes sistemas (Apps mobiles, modelos de data sciences, reportes, etc.)"
      ],
      "metadata": {
        "id": "sHepr5SZR1dx"
      }
    },
    {
      "cell_type": "markdown",
      "metadata": {
        "id": "6BTISwTfFZk8"
      },
      "source": [
        "### Instalación de servicios\n",
        "Descargamos e instalamos los requisitos."
      ]
    },
    {
      "cell_type": "code",
      "execution_count": null,
      "metadata": {
        "id": "SWGVTFuouyeP",
        "colab": {
          "base_uri": "https://localhost:8080/"
        },
        "outputId": "74fb5b73-1ed7-4837-d34b-baf2e65e670a"
      },
      "outputs": [
        {
          "output_type": "stream",
          "name": "stdout",
          "text": [
            "--2023-08-13 15:27:20--  https://dlcdn.apache.org/kafka/3.5.0/kafka_2.13-3.5.0.tgz\n",
            "Resolving dlcdn.apache.org (dlcdn.apache.org)... 151.101.2.132, 2a04:4e42::644\n",
            "Connecting to dlcdn.apache.org (dlcdn.apache.org)|151.101.2.132|:443... connected.\n",
            "HTTP request sent, awaiting response... 200 OK\n",
            "Length: 106792776 (102M) [application/x-gzip]\n",
            "Saving to: ‘kafka_2.13-3.5.0.tgz’\n",
            "\n",
            "kafka_2.13-3.5.0.tg 100%[===================>] 101.84M   289MB/s    in 0.4s    \n",
            "\n",
            "2023-08-13 15:27:21 (289 MB/s) - ‘kafka_2.13-3.5.0.tgz’ saved [106792776/106792776]\n",
            "\n"
          ]
        }
      ],
      "source": [
        "!apt-get install openjdk-8-jdk-headless -qq > /dev/null\n",
        "!wget -c https://dlcdn.apache.org/kafka/3.5.0/kafka_2.13-3.5.0.tgz"
      ]
    },
    {
      "cell_type": "markdown",
      "metadata": {
        "id": "JH0gKFhwwUMJ"
      },
      "source": [
        "Descomprimimos el paquete de Kafka y renombrar la carpeta extraída"
      ]
    },
    {
      "cell_type": "code",
      "execution_count": null,
      "metadata": {
        "id": "V2zbfNC0u-KC"
      },
      "outputs": [],
      "source": [
        "!tar -xzf kafka_2.13-3.5.0.tgz\n",
        "!mv kafka_2.13-3.5.0/ kafka"
      ]
    },
    {
      "cell_type": "markdown",
      "metadata": {
        "id": "38VkQ0lAwpN9"
      },
      "source": [
        "### Inicio de servicios\n",
        "Ejecutamos unos comandos para iniciar el servidor de Kafka"
      ]
    },
    {
      "cell_type": "code",
      "execution_count": null,
      "metadata": {
        "colab": {
          "base_uri": "https://localhost:8080/"
        },
        "id": "DE1Ac0Kc3lCj",
        "outputId": "634614c8-ee79-4085-b256-ba511e26b742"
      },
      "outputs": [
        {
          "output_type": "stream",
          "name": "stdout",
          "text": [
            "Waiting for 10 secs until kafka and zookeeper services are up and running\n"
          ]
        }
      ],
      "source": [
        "!./kafka/bin/zookeeper-server-start.sh -daemon ./kafka/config/zookeeper.properties\n",
        "!./kafka/bin/kafka-server-start.sh -daemon ./kafka/config/server.properties\n",
        "!echo \"Waiting for 10 secs until kafka and zookeeper services are up and running\"\n",
        "!sleep 10"
      ]
    },
    {
      "cell_type": "markdown",
      "metadata": {
        "id": "XPWzjWF-xFzU"
      },
      "source": [
        "## Creación de un tópico\n",
        "[Animación](https://miro.medium.com/v2/resize:fit:1200/1*QWzbTNfsPNuEK69A_dtxCA.gif) de como funciona un tópico\n",
        "\n",
        "[Animación](https://miro.medium.com/v2/resize:fit:1200/1*5EJ12zSrJCiY2BFdvGFNzg.gif) de como funciona un tópico y sus particiones"
      ]
    },
    {
      "cell_type": "code",
      "execution_count": null,
      "metadata": {
        "colab": {
          "base_uri": "https://localhost:8080/"
        },
        "id": "aoL_QMSQxPcb",
        "outputId": "1bebadd2-6fdc-437e-94b7-eaae70cb2bce"
      },
      "outputs": [
        {
          "output_type": "stream",
          "name": "stdout",
          "text": [
            "WARNING: Due to limitations in metric names, topics with a period ('.') or underscore ('_') could collide. To avoid issues it is best to use either, but not both.\n",
            "Created topic weather_station.\n"
          ]
        }
      ],
      "source": [
        "!./kafka/bin/kafka-topics.sh --create --bootstrap-server 127.0.0.1:9092 --partitions 3 --replication-factor 1 --topic weather_station"
      ]
    },
    {
      "cell_type": "markdown",
      "source": [
        "## Socket"
      ],
      "metadata": {
        "id": "BTLPfTJiKwFN"
      }
    },
    {
      "cell_type": "markdown",
      "source": [
        "A continuación vamos a consumir datos de una estación meteorológica, gestionado por el proyecto [HPWREN](https://hpwren.ucsd.edu/) de la Universidad California San Diego. Los datos son accesibles en tiempo real gracias a su infraestructurada de red conectada a internet.\n",
        "\n",
        "El acceso a los datos será por medio de socket.\n",
        "\n",
        "Un socket es una abstracción de programación que permite que los programas se comuniquen entre sí, mediante **el envío y recepción de datos a través de la red**, ya sea en el mismo equipo o en diferentes máquinas en una red local o en Internet.\n",
        "En términos simples, **un socket es un punto final para enviar o recibir datos a través de una red, o bien es como una puerta que se abre en una máquina para permitir que los datos entren o salgan.**\n",
        "\n",
        "El siguiente script utiliza la librería `socket` para crear y manejar sockets. La librería proporciona funciones y clases que permiten la creación, configuración y uso de sockets de red. En este caso específico, el script crea un socket usando el protocolo IPv4 (AF_INET) y el tipo de socket de flujo (SOCK_STREAM), que se utiliza para la comunicación fiable y orientada a conexión, como en el caso de las conexiones TCP.\n",
        "\n",
        "El script establece una conexión con un host remoto y un puerto específico usando el método `connect()`. Una vez que la conexión se establece, el bucle principal recibe y procesa los datos que llegan al socket, y finalmente se cierra el socket al finalizar la ejecución del script."
      ],
      "metadata": {
        "id": "0VZzM2k8k03f"
      }
    },
    {
      "cell_type": "code",
      "execution_count": null,
      "metadata": {
        "id": "kmkClrYmktZd"
      },
      "outputs": [],
      "source": [
        "import socket\n",
        "\n",
        "# Crear un socket TCP/IP\n",
        "s = socket.socket(socket.AF_INET, socket.SOCK_STREAM)\n",
        "\n",
        "# Conectar el socket al host y puerto proporcionados\n",
        "s.connect(('rtd.hpwren.ucsd.edu', 12020))\n",
        "\n",
        "try:\n",
        "  # Bucle principal para recibir y procesar datos en tiempo real\n",
        "  while True:\n",
        "      # Recibir datos del socket en bloques de hasta 1024 bytes\n",
        "      data = s.recv(1024)\n",
        "\n",
        "      # Decodificar los datos binarios en un string legible\n",
        "      data = data.decode()\n",
        "\n",
        "      # Imprimir los datos en la consola (puedes comentar esta línea si no es necesario)\n",
        "      print(data)\n",
        "\n",
        "except KeyboardInterrupt:\n",
        "      # Manejar la interrupción del teclado (Ctrl+C)\n",
        "      print(\"Deteniendo el script...\")\n",
        "\n",
        "except Exception as e:\n",
        "      # Capturar y mostrar otros tipos de excepciones que puedan ocurrir\n",
        "      print(\"Ocurrió un error\")\n",
        "      print(f\"Error: {e}\")\n",
        "\n",
        "finally:\n",
        "      # Cerrar el socket al finalizar la ejecución del script\n",
        "      s.close()"
      ]
    },
    {
      "cell_type": "markdown",
      "source": [
        "Para saber que significa cada variable como Sn, Sm, Sx, Ta, Pa, etc. podes consultar este [link ](https://github.com/words-sdsc/coursera/blob/master/big-data-2/sensor/wxt-520-format.txt)"
      ],
      "metadata": {
        "id": "AStB3AvKldVh"
      }
    },
    {
      "cell_type": "markdown",
      "source": [
        "## Kafka producer"
      ],
      "metadata": {
        "id": "QhGh6-2nK2Wg"
      }
    },
    {
      "cell_type": "code",
      "source": [
        "!pip install kafka-python"
      ],
      "metadata": {
        "colab": {
          "base_uri": "https://localhost:8080/"
        },
        "id": "md2JGwDyLDXn",
        "outputId": "ca923b59-81eb-4c64-c5d4-1e73802d4624"
      },
      "execution_count": null,
      "outputs": [
        {
          "output_type": "stream",
          "name": "stdout",
          "text": [
            "Collecting kafka-python\n",
            "  Downloading kafka_python-2.0.2-py2.py3-none-any.whl (246 kB)\n",
            "\u001b[?25l     \u001b[90m━━━━━━━━━━━━━━━━━━━━━━━━━━━━━━━━━━━━━━━━\u001b[0m \u001b[32m0.0/246.5 kB\u001b[0m \u001b[31m?\u001b[0m eta \u001b[36m-:--:--\u001b[0m\r\u001b[2K     \u001b[91m━━━━━━━━━━━━━━━━━━━━━━━━━━━━━━━━━━━━━━\u001b[0m\u001b[91m╸\u001b[0m \u001b[32m245.8/246.5 kB\u001b[0m \u001b[31m7.4 MB/s\u001b[0m eta \u001b[36m0:00:01\u001b[0m\r\u001b[2K     \u001b[90m━━━━━━━━━━━━━━━━━━━━━━━━━━━━━━━━━━━━━━━\u001b[0m \u001b[32m246.5/246.5 kB\u001b[0m \u001b[31m5.6 MB/s\u001b[0m eta \u001b[36m0:00:00\u001b[0m\n",
            "\u001b[?25hInstalling collected packages: kafka-python\n",
            "Successfully installed kafka-python-2.0.2\n"
          ]
        }
      ]
    },
    {
      "cell_type": "code",
      "source": [
        "from kafka import KafkaProducer\n",
        "\n",
        "bootstrap_servers = 'localhost:9092'  # Dirección y puerto del servidor Kafka\n",
        "topic = 'weather_station'  # Nombre del tópico en el que se enviarán los datos\n",
        "\n",
        "producer = KafkaProducer(bootstrap_servers=bootstrap_servers)"
      ],
      "metadata": {
        "id": "SYZEpJesK36M"
      },
      "execution_count": null,
      "outputs": []
    },
    {
      "cell_type": "code",
      "source": [
        "import socket\n",
        "\n",
        "# Crear un socket TCP/IP\n",
        "s = socket.socket(socket.AF_INET, socket.SOCK_STREAM)\n",
        "\n",
        "# Conectar el socket al host y puerto proporcionados\n",
        "s.connect(('rtd.hpwren.ucsd.edu', 12020))\n",
        "\n",
        "try:\n",
        "  # Bucle principal para recibir y procesar datos en tiempo real\n",
        "  while True:\n",
        "      # Recibir datos del socket en bloques de hasta 1024 bytes\n",
        "      data = s.recv(1024)\n",
        "\n",
        "      # Decodificar los datos binarios en un string legible\n",
        "      data = data.decode()\n",
        "\n",
        "      # Enviar los datos a un tópico\n",
        "      producer.send(topic, data.encode(\"utf-8\"))\n",
        "      print(f\"Se ha enviado el mensaje: {data}\")\n",
        "\n",
        "except KeyboardInterrupt:\n",
        "      # Manejar la interrupción del teclado (Ctrl+C)\n",
        "      print(\"Deteniendo el script...\")\n",
        "\n",
        "except Exception as e:\n",
        "      # Capturar y mostrar otros tipos de excepciones que puedan ocurrir\n",
        "      print(\"Ocurrió un error\")\n",
        "      print(f\"Error: {e}\")\n",
        "\n",
        "finally:\n",
        "      # Cerrar el socket al finalizar la ejecución del script\n",
        "      s.close()"
      ],
      "metadata": {
        "colab": {
          "base_uri": "https://localhost:8080/"
        },
        "id": "gPkP5EaALSIk",
        "outputId": "87422ac0-f517-42a2-83d8-c3b8fcd4cd2a"
      },
      "execution_count": null,
      "outputs": [
        {
          "output_type": "stream",
          "name": "stdout",
          "text": [
            "Se ha enviado el mensaje: 198.202.124.3\tHPWREN:LP-WXT536:0R1:4:0\t1691940879\t0R1,Dn=000#,Dm=000#,Dx=000#,Sn=0.0#,Sm=99.9#,Sx=0.0#\n",
            "\n",
            "Se ha enviado el mensaje: 198.202.124.3\tHPWREN:LP-WXT536:0R1:4:0\t1691940880\t0R1,Dn=000#,Dm=000#,Dx=000#,Sn=0.0#,Sm=99.9#,Sx=0.0#\n",
            "\n",
            "Se ha enviado el mensaje: 198.202.124.3\tHPWREN:LP-WXT536:0R1:4:0\t1691940881\t0R1,Dn=000#,Dm=000#,Dx=000#,Sn=0.0#,Sm=99.9#,Sx=0.0#\n",
            "\n",
            "Se ha enviado el mensaje: 198.202.124.3\tHPWREN:LP-WXT536:0R1:4:0\t1691940882\t0R1,Dn=000#,Dm=000#,Dx=000#,Sn=0.0#,Sm=99.9#,Sx=0.0#\n",
            "\n",
            "Se ha enviado el mensaje: 198.202.124.3\tHPWREN:LP-WXT536:0R2:4:0\t1691940882\t0R2,Ta=24.5C,Ua=44.2P,Pa=886.9H\n",
            "\n",
            "Se ha enviado el mensaje: 198.202.124.3\tHPWREN:LP-WXT536:0R1:4:0\t1691940883\t0R1,Dn=000#,Dm=000#,Dx=000#,Sn=0.0#,Sm=99.9#,Sx=0.0#\n",
            "\n",
            "Se ha enviado el mensaje: 198.202.124.3\tHPWREN:LP-WXT536:0R1:4:0\t1691940884\t0R1,Dn=000#,Dm=000#,Dx=000#,Sn=0.0#,Sm=99.9#,Sx=0.0#\n",
            "\n",
            "Se ha enviado el mensaje: 198.202.124.3\tHPWREN:LP-WXT536:0R1:4:0\t1691940885\t0R1,Dn=000#,Dm=000#,Dx=000#,Sn=0.0#,Sm=99.9#,Sx=0.0#\n",
            "\n",
            "Se ha enviado el mensaje: 198.202.124.3\tHPWREN:LP-WXT536:0R1:4:0\t1691940886\t0R1,Dn=000#,Dm=000#,Dx=000#,Sn=0.0#,Sm=99.9#,Sx=0.0#\n",
            "\n",
            "Se ha enviado el mensaje: 198.202.124.3\tHPWREN:LP-WXT536:0R1:4:0\t1691940887\t0R1,Dn=000#,Dm=000#,Dx=000#,Sn=0.0#,Sm=99.9#,Sx=0.0#\n",
            "\n",
            "Se ha enviado el mensaje: 198.202.124.3\tHPWREN:LP-WXT536:0R1:4:0\t1691940888\t0R1,Dn=000#,Dm=000#,Dx=000#,Sn=0.0#,Sm=99.9#,Sx=0.0#\n",
            "\n",
            "Se ha enviado el mensaje: 198.202.124.3\tHPWREN:LP-WXT536:0R1:4:0\t1691940889\t0R1,Dn=000#,Dm=000#,Dx=000#,Sn=0.0#,Sm=99.9#,Sx=0.0#\n",
            "\n",
            "Se ha enviado el mensaje: 198.202.124.3\tHPWREN:LP-WXT536:0R1:4:0\t1691940890\t0R1,Dn=000#,Dm=000#,Dx=000#,Sn=0.0#,Sm=99.9#,Sx=0.0#\n",
            "\n",
            "Se ha enviado el mensaje: 198.202.124.3\tHPWREN:LP-WXT536:0R1:4:0\t1691940891\t0R1,Dn=000#,Dm=000#,Dx=000#,Sn=0.0#,Sm=99.9#,Sx=0.0#\n",
            "\n",
            "Se ha enviado el mensaje: 198.202.124.3\tHPWREN:LP-WXT536:0R1:4:0\t1691940892\t0R1,Dn=000#,Dm=000#,Dx=000#,Sn=0.0#,Sm=99.9#,Sx=0.0#\n",
            "\n",
            "Se ha enviado el mensaje: 198.202.124.3\tHPWREN:LP-WXT536:0R2:4:0\t1691940892\t0R2,Ta=24.5C,Ua=45.7P,Pa=886.9H\n",
            "\n",
            "Se ha enviado el mensaje: 198.202.124.3\tHPWREN:LP-WXT536:0R1:4:0\t1691940893\t0R1,Dn=000#,Dm=000#,Dx=000#,Sn=0.0#,Sm=99.9#,Sx=0.0#\n",
            "\n",
            "Se ha enviado el mensaje: 198.202.124.3\tHPWREN:LP-WXT536:0R1:4:0\t1691940894\t0R1,Dn=000#,Dm=000#,Dx=000#,Sn=0.0#,Sm=99.9#,Sx=0.0#\n",
            "\n",
            "Se ha enviado el mensaje: 198.202.124.3\tHPWREN:LP-WXT536:0R1:4:0\t1691940895\t0R1,Dn=000#,Dm=000#,Dx=000#,Sn=0.0#,Sm=99.9#,Sx=0.0#\n",
            "\n",
            "Se ha enviado el mensaje: 198.202.124.3\tHPWREN:LP-WXT536:0R1:4:0\t1691940896\t0R1,Dn=000#,Dm=000#,Dx=000#,Sn=0.0#,Sm=99.9#,Sx=0.0#\n",
            "\n",
            "Se ha enviado el mensaje: 198.202.124.3\tHPWREN:LP-WXT536:0R1:4:0\t1691940897\t0R1,Dn=000#,Dm=000#,Dx=000#,Sn=0.0#,Sm=99.9#,Sx=0.0#\n",
            "\n",
            "Se ha enviado el mensaje: 198.202.124.3\tHPWREN:LP-WXT536:0R1:4:0\t1691940898\t0R1,Dn=000#,Dm=000#,Dx=000#,Sn=0.0#,Sm=99.9#,Sx=0.0#\n",
            "\n",
            "Se ha enviado el mensaje: 198.202.124.3\tHPWREN:LP-WXT536:0R1:4:0\t1691940899\t0R1,Dn=000#,Dm=000#,Dx=000#,Sn=0.0#,Sm=99.9#,Sx=0.0#\n",
            "\n",
            "Se ha enviado el mensaje: 198.202.124.3\tHPWREN:LP-WXT536:0R1:4:0\t1691940900\t0R1,Dn=000#,Dm=000#,Dx=000#,Sn=0.0#,Sm=99.9#,Sx=0.0#\n",
            "\n",
            "Se ha enviado el mensaje: 198.202.124.3\tHPWREN:LP-WXT536:0R1:4:0\t1691940901\t0R1,Dn=000#,Dm=000#,Dx=000#,Sn=0.0#,Sm=99.9#,Sx=0.0#\n",
            "\n",
            "Se ha enviado el mensaje: 198.202.124.3\tHPWREN:LP-WXT536:0R1:4:0\t1691940902\t0R1,Dn=000#,Dm=000#,Dx=000#,Sn=0.0#,Sm=99.9#,Sx=0.0#\n",
            "\n",
            "Se ha enviado el mensaje: 198.202.124.3\tHPWREN:LP-WXT536:0R2:4:0\t1691940902\t0R2,Ta=24.5C,Ua=43.7P,Pa=887.0H\n",
            "\n",
            "Se ha enviado el mensaje: 198.202.124.3\tHPWREN:LP-WXT536:0R1:4:0\t1691940903\t0R1,Dn=000#,Dm=000#,Dx=000#,Sn=0.0#,Sm=99.9#,Sx=0.0#\n",
            "\n",
            "Se ha enviado el mensaje: 198.202.124.3\tHPWREN:LP-WXT536:0R1:4:0\t1691940904\t0R1,Dn=000#,Dm=000#,Dx=000#,Sn=0.0#,Sm=99.9#,Sx=0.0#\n",
            "\n",
            "Se ha enviado el mensaje: 198.202.124.3\tHPWREN:LP-WXT536:0R1:4:0\t1691940905\t0R1,Dn=000#,Dm=000#,Dx=000#,Sn=0.0#,Sm=99.9#,Sx=0.0#\n",
            "\n",
            "Se ha enviado el mensaje: 198.202.124.3\tHPWREN:LP-WXT536:0R1:4:0\t1691940906\t0R1,Dn=000#,Dm=000#,Dx=000#,Sn=0.0#,Sm=99.9#,Sx=0.0#\n",
            "\n",
            "Deteniendo el script...\n"
          ]
        }
      ]
    },
    {
      "cell_type": "markdown",
      "source": [
        "## Consumer"
      ],
      "metadata": {
        "id": "rYeAzT31MGl9"
      }
    },
    {
      "cell_type": "markdown",
      "source": [
        "### Consola"
      ],
      "metadata": {
        "id": "NfuaOTNlMk88"
      }
    },
    {
      "cell_type": "code",
      "source": [
        "!./kafka/bin/kafka-console-consumer.sh --bootstrap-server localhost:9092 --topic weather_station --from-beginning"
      ],
      "metadata": {
        "colab": {
          "base_uri": "https://localhost:8080/"
        },
        "id": "TPatFc1jL-K8",
        "outputId": "fcb5a9cc-966f-4b18-e8c2-7e16dd82a2e6"
      },
      "execution_count": null,
      "outputs": [
        {
          "output_type": "stream",
          "name": "stdout",
          "text": [
            "198.202.124.3\tHPWREN:LP-WXT536:0R1:4:0\t1691940879\t0R1,Dn=000#,Dm=000#,Dx=000#,Sn=0.0#,Sm=99.9#,Sx=0.0#\n",
            "\r\n",
            "198.202.124.3\tHPWREN:LP-WXT536:0R1:4:0\t1691940880\t0R1,Dn=000#,Dm=000#,Dx=000#,Sn=0.0#,Sm=99.9#,Sx=0.0#\n",
            "\r\n",
            "198.202.124.3\tHPWREN:LP-WXT536:0R1:4:0\t1691940881\t0R1,Dn=000#,Dm=000#,Dx=000#,Sn=0.0#,Sm=99.9#,Sx=0.0#\n",
            "\r\n",
            "198.202.124.3\tHPWREN:LP-WXT536:0R1:4:0\t1691940882\t0R1,Dn=000#,Dm=000#,Dx=000#,Sn=0.0#,Sm=99.9#,Sx=0.0#\n",
            "\r\n",
            "198.202.124.3\tHPWREN:LP-WXT536:0R2:4:0\t1691940882\t0R2,Ta=24.5C,Ua=44.2P,Pa=886.9H\n",
            "\r\n",
            "198.202.124.3\tHPWREN:LP-WXT536:0R1:4:0\t1691940883\t0R1,Dn=000#,Dm=000#,Dx=000#,Sn=0.0#,Sm=99.9#,Sx=0.0#\n",
            "\r\n",
            "198.202.124.3\tHPWREN:LP-WXT536:0R1:4:0\t1691940884\t0R1,Dn=000#,Dm=000#,Dx=000#,Sn=0.0#,Sm=99.9#,Sx=0.0#\n",
            "\r\n",
            "198.202.124.3\tHPWREN:LP-WXT536:0R1:4:0\t1691940885\t0R1,Dn=000#,Dm=000#,Dx=000#,Sn=0.0#,Sm=99.9#,Sx=0.0#\n",
            "\r\n",
            "198.202.124.3\tHPWREN:LP-WXT536:0R1:4:0\t1691940886\t0R1,Dn=000#,Dm=000#,Dx=000#,Sn=0.0#,Sm=99.9#,Sx=0.0#\n",
            "\r\n",
            "198.202.124.3\tHPWREN:LP-WXT536:0R1:4:0\t1691940887\t0R1,Dn=000#,Dm=000#,Dx=000#,Sn=0.0#,Sm=99.9#,Sx=0.0#\n",
            "\r\n",
            "198.202.124.3\tHPWREN:LP-WXT536:0R1:4:0\t1691940888\t0R1,Dn=000#,Dm=000#,Dx=000#,Sn=0.0#,Sm=99.9#,Sx=0.0#\n",
            "\r\n",
            "198.202.124.3\tHPWREN:LP-WXT536:0R1:4:0\t1691940889\t0R1,Dn=000#,Dm=000#,Dx=000#,Sn=0.0#,Sm=99.9#,Sx=0.0#\n",
            "\r\n",
            "198.202.124.3\tHPWREN:LP-WXT536:0R1:4:0\t1691940890\t0R1,Dn=000#,Dm=000#,Dx=000#,Sn=0.0#,Sm=99.9#,Sx=0.0#\n",
            "\r\n",
            "198.202.124.3\tHPWREN:LP-WXT536:0R1:4:0\t1691940891\t0R1,Dn=000#,Dm=000#,Dx=000#,Sn=0.0#,Sm=99.9#,Sx=0.0#\n",
            "\r\n",
            "198.202.124.3\tHPWREN:LP-WXT536:0R1:4:0\t1691940892\t0R1,Dn=000#,Dm=000#,Dx=000#,Sn=0.0#,Sm=99.9#,Sx=0.0#\n",
            "\r\n",
            "198.202.124.3\tHPWREN:LP-WXT536:0R2:4:0\t1691940892\t0R2,Ta=24.5C,Ua=45.7P,Pa=886.9H\n",
            "\r\n",
            "198.202.124.3\tHPWREN:LP-WXT536:0R1:4:0\t1691940893\t0R1,Dn=000#,Dm=000#,Dx=000#,Sn=0.0#,Sm=99.9#,Sx=0.0#\n",
            "\r\n",
            "198.202.124.3\tHPWREN:LP-WXT536:0R1:4:0\t1691940894\t0R1,Dn=000#,Dm=000#,Dx=000#,Sn=0.0#,Sm=99.9#,Sx=0.0#\n",
            "\r\n",
            "198.202.124.3\tHPWREN:LP-WXT536:0R1:4:0\t1691940895\t0R1,Dn=000#,Dm=000#,Dx=000#,Sn=0.0#,Sm=99.9#,Sx=0.0#\n",
            "\r\n",
            "198.202.124.3\tHPWREN:LP-WXT536:0R1:4:0\t1691940896\t0R1,Dn=000#,Dm=000#,Dx=000#,Sn=0.0#,Sm=99.9#,Sx=0.0#\n",
            "\r\n",
            "198.202.124.3\tHPWREN:LP-WXT536:0R1:4:0\t1691940897\t0R1,Dn=000#,Dm=000#,Dx=000#,Sn=0.0#,Sm=99.9#,Sx=0.0#\n",
            "\r\n",
            "198.202.124.3\tHPWREN:LP-WXT536:0R1:4:0\t1691940898\t0R1,Dn=000#,Dm=000#,Dx=000#,Sn=0.0#,Sm=99.9#,Sx=0.0#\n",
            "\r\n",
            "198.202.124.3\tHPWREN:LP-WXT536:0R1:4:0\t1691940899\t0R1,Dn=000#,Dm=000#,Dx=000#,Sn=0.0#,Sm=99.9#,Sx=0.0#\n",
            "\r\n",
            "198.202.124.3\tHPWREN:LP-WXT536:0R1:4:0\t1691940900\t0R1,Dn=000#,Dm=000#,Dx=000#,Sn=0.0#,Sm=99.9#,Sx=0.0#\n",
            "\r\n",
            "198.202.124.3\tHPWREN:LP-WXT536:0R1:4:0\t1691940901\t0R1,Dn=000#,Dm=000#,Dx=000#,Sn=0.0#,Sm=99.9#,Sx=0.0#\n",
            "\r\n",
            "198.202.124.3\tHPWREN:LP-WXT536:0R1:4:0\t1691940902\t0R1,Dn=000#,Dm=000#,Dx=000#,Sn=0.0#,Sm=99.9#,Sx=0.0#\n",
            "\r\n",
            "198.202.124.3\tHPWREN:LP-WXT536:0R2:4:0\t1691940902\t0R2,Ta=24.5C,Ua=43.7P,Pa=887.0H\n",
            "\r\n",
            "198.202.124.3\tHPWREN:LP-WXT536:0R1:4:0\t1691940903\t0R1,Dn=000#,Dm=000#,Dx=000#,Sn=0.0#,Sm=99.9#,Sx=0.0#\n",
            "\r\n",
            "198.202.124.3\tHPWREN:LP-WXT536:0R1:4:0\t1691940904\t0R1,Dn=000#,Dm=000#,Dx=000#,Sn=0.0#,Sm=99.9#,Sx=0.0#\n",
            "\r\n",
            "198.202.124.3\tHPWREN:LP-WXT536:0R1:4:0\t1691940905\t0R1,Dn=000#,Dm=000#,Dx=000#,Sn=0.0#,Sm=99.9#,Sx=0.0#\n",
            "\r\n",
            "198.202.124.3\tHPWREN:LP-WXT536:0R1:4:0\t1691940906\t0R1,Dn=000#,Dm=000#,Dx=000#,Sn=0.0#,Sm=99.9#,Sx=0.0#\n",
            "\r\n",
            "Processed a total of 31 messages\n"
          ]
        }
      ]
    },
    {
      "cell_type": "markdown",
      "source": [
        "## Python"
      ],
      "metadata": {
        "id": "ekbP72dDjQjE"
      }
    },
    {
      "cell_type": "code",
      "source": [
        "from kafka import KafkaConsumer\n",
        "from datetime import datetime\n",
        "\n",
        "# To consume latest messages and auto-commit offsets\n",
        "consumer = KafkaConsumer('weather_station',\n",
        "                         bootstrap_servers=['localhost:9092'],\n",
        "                         auto_offset_reset='earliest',\n",
        "                         enable_auto_commit=False)\n",
        "\n",
        "for message in consumer:\n",
        "  data = message.value.decode()\n",
        "  ip, id, tstamp, values = data.split(\"\\t\")\n",
        "  for val in values.split(\",\")[1:]:\n",
        "    variable, measurement = val.strip().split(\"=\")\n",
        "    print({variable: measurement, \"tstamp\": tstamp})"
      ],
      "metadata": {
        "colab": {
          "base_uri": "https://localhost:8080/",
          "height": 1000
        },
        "id": "MBi8xenUrJOS",
        "outputId": "56e88eb1-fb81-40eb-8392-eaab216f0cc1"
      },
      "execution_count": null,
      "outputs": [
        {
          "output_type": "stream",
          "name": "stdout",
          "text": [
            "{'Dn': '000#', 'tstamp': '1691940879'}\n",
            "{'Dm': '000#', 'tstamp': '1691940879'}\n",
            "{'Dx': '000#', 'tstamp': '1691940879'}\n",
            "{'Sn': '0.0#', 'tstamp': '1691940879'}\n",
            "{'Sm': '99.9#', 'tstamp': '1691940879'}\n",
            "{'Sx': '0.0#', 'tstamp': '1691940879'}\n",
            "{'Dn': '000#', 'tstamp': '1691940880'}\n",
            "{'Dm': '000#', 'tstamp': '1691940880'}\n",
            "{'Dx': '000#', 'tstamp': '1691940880'}\n",
            "{'Sn': '0.0#', 'tstamp': '1691940880'}\n",
            "{'Sm': '99.9#', 'tstamp': '1691940880'}\n",
            "{'Sx': '0.0#', 'tstamp': '1691940880'}\n",
            "{'Dn': '000#', 'tstamp': '1691940881'}\n",
            "{'Dm': '000#', 'tstamp': '1691940881'}\n",
            "{'Dx': '000#', 'tstamp': '1691940881'}\n",
            "{'Sn': '0.0#', 'tstamp': '1691940881'}\n",
            "{'Sm': '99.9#', 'tstamp': '1691940881'}\n",
            "{'Sx': '0.0#', 'tstamp': '1691940881'}\n",
            "{'Dn': '000#', 'tstamp': '1691940882'}\n",
            "{'Dm': '000#', 'tstamp': '1691940882'}\n",
            "{'Dx': '000#', 'tstamp': '1691940882'}\n",
            "{'Sn': '0.0#', 'tstamp': '1691940882'}\n",
            "{'Sm': '99.9#', 'tstamp': '1691940882'}\n",
            "{'Sx': '0.0#', 'tstamp': '1691940882'}\n",
            "{'Ta': '24.5C', 'tstamp': '1691940882'}\n",
            "{'Ua': '44.2P', 'tstamp': '1691940882'}\n",
            "{'Pa': '886.9H', 'tstamp': '1691940882'}\n",
            "{'Dn': '000#', 'tstamp': '1691940883'}\n",
            "{'Dm': '000#', 'tstamp': '1691940883'}\n",
            "{'Dx': '000#', 'tstamp': '1691940883'}\n",
            "{'Sn': '0.0#', 'tstamp': '1691940883'}\n",
            "{'Sm': '99.9#', 'tstamp': '1691940883'}\n",
            "{'Sx': '0.0#', 'tstamp': '1691940883'}\n",
            "{'Dn': '000#', 'tstamp': '1691940884'}\n",
            "{'Dm': '000#', 'tstamp': '1691940884'}\n",
            "{'Dx': '000#', 'tstamp': '1691940884'}\n",
            "{'Sn': '0.0#', 'tstamp': '1691940884'}\n",
            "{'Sm': '99.9#', 'tstamp': '1691940884'}\n",
            "{'Sx': '0.0#', 'tstamp': '1691940884'}\n",
            "{'Dn': '000#', 'tstamp': '1691940885'}\n",
            "{'Dm': '000#', 'tstamp': '1691940885'}\n",
            "{'Dx': '000#', 'tstamp': '1691940885'}\n",
            "{'Sn': '0.0#', 'tstamp': '1691940885'}\n",
            "{'Sm': '99.9#', 'tstamp': '1691940885'}\n",
            "{'Sx': '0.0#', 'tstamp': '1691940885'}\n",
            "{'Dn': '000#', 'tstamp': '1691940886'}\n",
            "{'Dm': '000#', 'tstamp': '1691940886'}\n",
            "{'Dx': '000#', 'tstamp': '1691940886'}\n",
            "{'Sn': '0.0#', 'tstamp': '1691940886'}\n",
            "{'Sm': '99.9#', 'tstamp': '1691940886'}\n",
            "{'Sx': '0.0#', 'tstamp': '1691940886'}\n",
            "{'Dn': '000#', 'tstamp': '1691940887'}\n",
            "{'Dm': '000#', 'tstamp': '1691940887'}\n",
            "{'Dx': '000#', 'tstamp': '1691940887'}\n",
            "{'Sn': '0.0#', 'tstamp': '1691940887'}\n",
            "{'Sm': '99.9#', 'tstamp': '1691940887'}\n",
            "{'Sx': '0.0#', 'tstamp': '1691940887'}\n",
            "{'Dn': '000#', 'tstamp': '1691940888'}\n",
            "{'Dm': '000#', 'tstamp': '1691940888'}\n",
            "{'Dx': '000#', 'tstamp': '1691940888'}\n",
            "{'Sn': '0.0#', 'tstamp': '1691940888'}\n",
            "{'Sm': '99.9#', 'tstamp': '1691940888'}\n",
            "{'Sx': '0.0#', 'tstamp': '1691940888'}\n",
            "{'Dn': '000#', 'tstamp': '1691940889'}\n",
            "{'Dm': '000#', 'tstamp': '1691940889'}\n",
            "{'Dx': '000#', 'tstamp': '1691940889'}\n",
            "{'Sn': '0.0#', 'tstamp': '1691940889'}\n",
            "{'Sm': '99.9#', 'tstamp': '1691940889'}\n",
            "{'Sx': '0.0#', 'tstamp': '1691940889'}\n",
            "{'Dn': '000#', 'tstamp': '1691940890'}\n",
            "{'Dm': '000#', 'tstamp': '1691940890'}\n",
            "{'Dx': '000#', 'tstamp': '1691940890'}\n",
            "{'Sn': '0.0#', 'tstamp': '1691940890'}\n",
            "{'Sm': '99.9#', 'tstamp': '1691940890'}\n",
            "{'Sx': '0.0#', 'tstamp': '1691940890'}\n",
            "{'Dn': '000#', 'tstamp': '1691940891'}\n",
            "{'Dm': '000#', 'tstamp': '1691940891'}\n",
            "{'Dx': '000#', 'tstamp': '1691940891'}\n",
            "{'Sn': '0.0#', 'tstamp': '1691940891'}\n",
            "{'Sm': '99.9#', 'tstamp': '1691940891'}\n",
            "{'Sx': '0.0#', 'tstamp': '1691940891'}\n",
            "{'Dn': '000#', 'tstamp': '1691940892'}\n",
            "{'Dm': '000#', 'tstamp': '1691940892'}\n",
            "{'Dx': '000#', 'tstamp': '1691940892'}\n",
            "{'Sn': '0.0#', 'tstamp': '1691940892'}\n",
            "{'Sm': '99.9#', 'tstamp': '1691940892'}\n",
            "{'Sx': '0.0#', 'tstamp': '1691940892'}\n",
            "{'Ta': '24.5C', 'tstamp': '1691940892'}\n",
            "{'Ua': '45.7P', 'tstamp': '1691940892'}\n",
            "{'Pa': '886.9H', 'tstamp': '1691940892'}\n",
            "{'Dn': '000#', 'tstamp': '1691940893'}\n",
            "{'Dm': '000#', 'tstamp': '1691940893'}\n",
            "{'Dx': '000#', 'tstamp': '1691940893'}\n",
            "{'Sn': '0.0#', 'tstamp': '1691940893'}\n",
            "{'Sm': '99.9#', 'tstamp': '1691940893'}\n",
            "{'Sx': '0.0#', 'tstamp': '1691940893'}\n",
            "{'Dn': '000#', 'tstamp': '1691940894'}\n",
            "{'Dm': '000#', 'tstamp': '1691940894'}\n",
            "{'Dx': '000#', 'tstamp': '1691940894'}\n",
            "{'Sn': '0.0#', 'tstamp': '1691940894'}\n",
            "{'Sm': '99.9#', 'tstamp': '1691940894'}\n",
            "{'Sx': '0.0#', 'tstamp': '1691940894'}\n",
            "{'Dn': '000#', 'tstamp': '1691940895'}\n",
            "{'Dm': '000#', 'tstamp': '1691940895'}\n",
            "{'Dx': '000#', 'tstamp': '1691940895'}\n",
            "{'Sn': '0.0#', 'tstamp': '1691940895'}\n",
            "{'Sm': '99.9#', 'tstamp': '1691940895'}\n",
            "{'Sx': '0.0#', 'tstamp': '1691940895'}\n",
            "{'Dn': '000#', 'tstamp': '1691940896'}\n",
            "{'Dm': '000#', 'tstamp': '1691940896'}\n",
            "{'Dx': '000#', 'tstamp': '1691940896'}\n",
            "{'Sn': '0.0#', 'tstamp': '1691940896'}\n",
            "{'Sm': '99.9#', 'tstamp': '1691940896'}\n",
            "{'Sx': '0.0#', 'tstamp': '1691940896'}\n",
            "{'Dn': '000#', 'tstamp': '1691940897'}\n",
            "{'Dm': '000#', 'tstamp': '1691940897'}\n",
            "{'Dx': '000#', 'tstamp': '1691940897'}\n",
            "{'Sn': '0.0#', 'tstamp': '1691940897'}\n",
            "{'Sm': '99.9#', 'tstamp': '1691940897'}\n",
            "{'Sx': '0.0#', 'tstamp': '1691940897'}\n",
            "{'Dn': '000#', 'tstamp': '1691940898'}\n",
            "{'Dm': '000#', 'tstamp': '1691940898'}\n",
            "{'Dx': '000#', 'tstamp': '1691940898'}\n",
            "{'Sn': '0.0#', 'tstamp': '1691940898'}\n",
            "{'Sm': '99.9#', 'tstamp': '1691940898'}\n",
            "{'Sx': '0.0#', 'tstamp': '1691940898'}\n",
            "{'Dn': '000#', 'tstamp': '1691940899'}\n",
            "{'Dm': '000#', 'tstamp': '1691940899'}\n",
            "{'Dx': '000#', 'tstamp': '1691940899'}\n",
            "{'Sn': '0.0#', 'tstamp': '1691940899'}\n",
            "{'Sm': '99.9#', 'tstamp': '1691940899'}\n",
            "{'Sx': '0.0#', 'tstamp': '1691940899'}\n",
            "{'Dn': '000#', 'tstamp': '1691940900'}\n",
            "{'Dm': '000#', 'tstamp': '1691940900'}\n",
            "{'Dx': '000#', 'tstamp': '1691940900'}\n",
            "{'Sn': '0.0#', 'tstamp': '1691940900'}\n",
            "{'Sm': '99.9#', 'tstamp': '1691940900'}\n",
            "{'Sx': '0.0#', 'tstamp': '1691940900'}\n",
            "{'Dn': '000#', 'tstamp': '1691940901'}\n",
            "{'Dm': '000#', 'tstamp': '1691940901'}\n",
            "{'Dx': '000#', 'tstamp': '1691940901'}\n",
            "{'Sn': '0.0#', 'tstamp': '1691940901'}\n",
            "{'Sm': '99.9#', 'tstamp': '1691940901'}\n",
            "{'Sx': '0.0#', 'tstamp': '1691940901'}\n",
            "{'Dn': '000#', 'tstamp': '1691940902'}\n",
            "{'Dm': '000#', 'tstamp': '1691940902'}\n",
            "{'Dx': '000#', 'tstamp': '1691940902'}\n",
            "{'Sn': '0.0#', 'tstamp': '1691940902'}\n",
            "{'Sm': '99.9#', 'tstamp': '1691940902'}\n",
            "{'Sx': '0.0#', 'tstamp': '1691940902'}\n",
            "{'Ta': '24.5C', 'tstamp': '1691940902'}\n",
            "{'Ua': '43.7P', 'tstamp': '1691940902'}\n",
            "{'Pa': '887.0H', 'tstamp': '1691940902'}\n",
            "{'Dn': '000#', 'tstamp': '1691940903'}\n",
            "{'Dm': '000#', 'tstamp': '1691940903'}\n",
            "{'Dx': '000#', 'tstamp': '1691940903'}\n",
            "{'Sn': '0.0#', 'tstamp': '1691940903'}\n",
            "{'Sm': '99.9#', 'tstamp': '1691940903'}\n",
            "{'Sx': '0.0#', 'tstamp': '1691940903'}\n",
            "{'Dn': '000#', 'tstamp': '1691940904'}\n",
            "{'Dm': '000#', 'tstamp': '1691940904'}\n",
            "{'Dx': '000#', 'tstamp': '1691940904'}\n",
            "{'Sn': '0.0#', 'tstamp': '1691940904'}\n",
            "{'Sm': '99.9#', 'tstamp': '1691940904'}\n",
            "{'Sx': '0.0#', 'tstamp': '1691940904'}\n",
            "{'Dn': '000#', 'tstamp': '1691940905'}\n",
            "{'Dm': '000#', 'tstamp': '1691940905'}\n",
            "{'Dx': '000#', 'tstamp': '1691940905'}\n",
            "{'Sn': '0.0#', 'tstamp': '1691940905'}\n",
            "{'Sm': '99.9#', 'tstamp': '1691940905'}\n",
            "{'Sx': '0.0#', 'tstamp': '1691940905'}\n",
            "{'Dn': '000#', 'tstamp': '1691940906'}\n",
            "{'Dm': '000#', 'tstamp': '1691940906'}\n",
            "{'Dx': '000#', 'tstamp': '1691940906'}\n",
            "{'Sn': '0.0#', 'tstamp': '1691940906'}\n",
            "{'Sm': '99.9#', 'tstamp': '1691940906'}\n",
            "{'Sx': '0.0#', 'tstamp': '1691940906'}\n"
          ]
        },
        {
          "output_type": "error",
          "ename": "KeyboardInterrupt",
          "evalue": "ignored",
          "traceback": [
            "\u001b[0;31m---------------------------------------------------------------------------\u001b[0m",
            "\u001b[0;31mKeyboardInterrupt\u001b[0m                         Traceback (most recent call last)",
            "\u001b[0;32m<ipython-input-14-c02edd6b7d99>\u001b[0m in \u001b[0;36m<cell line: 10>\u001b[0;34m()\u001b[0m\n\u001b[1;32m      8\u001b[0m                          enable_auto_commit=False)\n\u001b[1;32m      9\u001b[0m \u001b[0;34m\u001b[0m\u001b[0m\n\u001b[0;32m---> 10\u001b[0;31m \u001b[0;32mfor\u001b[0m \u001b[0mmessage\u001b[0m \u001b[0;32min\u001b[0m \u001b[0mconsumer\u001b[0m\u001b[0;34m:\u001b[0m\u001b[0;34m\u001b[0m\u001b[0;34m\u001b[0m\u001b[0m\n\u001b[0m\u001b[1;32m     11\u001b[0m   \u001b[0mdata\u001b[0m \u001b[0;34m=\u001b[0m \u001b[0mmessage\u001b[0m\u001b[0;34m.\u001b[0m\u001b[0mvalue\u001b[0m\u001b[0;34m.\u001b[0m\u001b[0mdecode\u001b[0m\u001b[0;34m(\u001b[0m\u001b[0;34m)\u001b[0m\u001b[0;34m\u001b[0m\u001b[0;34m\u001b[0m\u001b[0m\n\u001b[1;32m     12\u001b[0m   \u001b[0mip\u001b[0m\u001b[0;34m,\u001b[0m \u001b[0mid\u001b[0m\u001b[0;34m,\u001b[0m \u001b[0mtstamp\u001b[0m\u001b[0;34m,\u001b[0m \u001b[0mvalues\u001b[0m \u001b[0;34m=\u001b[0m \u001b[0mdata\u001b[0m\u001b[0;34m.\u001b[0m\u001b[0msplit\u001b[0m\u001b[0;34m(\u001b[0m\u001b[0;34m\"\\t\"\u001b[0m\u001b[0;34m)\u001b[0m\u001b[0;34m\u001b[0m\u001b[0;34m\u001b[0m\u001b[0m\n",
            "\u001b[0;32m/usr/local/lib/python3.10/dist-packages/kafka/consumer/group.py\u001b[0m in \u001b[0;36m__next__\u001b[0;34m(self)\u001b[0m\n\u001b[1;32m   1191\u001b[0m             \u001b[0;32mreturn\u001b[0m \u001b[0mself\u001b[0m\u001b[0;34m.\u001b[0m\u001b[0mnext_v1\u001b[0m\u001b[0;34m(\u001b[0m\u001b[0;34m)\u001b[0m\u001b[0;34m\u001b[0m\u001b[0;34m\u001b[0m\u001b[0m\n\u001b[1;32m   1192\u001b[0m         \u001b[0;32melse\u001b[0m\u001b[0;34m:\u001b[0m\u001b[0;34m\u001b[0m\u001b[0;34m\u001b[0m\u001b[0m\n\u001b[0;32m-> 1193\u001b[0;31m             \u001b[0;32mreturn\u001b[0m \u001b[0mself\u001b[0m\u001b[0;34m.\u001b[0m\u001b[0mnext_v2\u001b[0m\u001b[0;34m(\u001b[0m\u001b[0;34m)\u001b[0m\u001b[0;34m\u001b[0m\u001b[0;34m\u001b[0m\u001b[0m\n\u001b[0m\u001b[1;32m   1194\u001b[0m \u001b[0;34m\u001b[0m\u001b[0m\n\u001b[1;32m   1195\u001b[0m     \u001b[0;32mdef\u001b[0m \u001b[0mnext_v2\u001b[0m\u001b[0;34m(\u001b[0m\u001b[0mself\u001b[0m\u001b[0;34m)\u001b[0m\u001b[0;34m:\u001b[0m\u001b[0;34m\u001b[0m\u001b[0;34m\u001b[0m\u001b[0m\n",
            "\u001b[0;32m/usr/local/lib/python3.10/dist-packages/kafka/consumer/group.py\u001b[0m in \u001b[0;36mnext_v2\u001b[0;34m(self)\u001b[0m\n\u001b[1;32m   1199\u001b[0m                 \u001b[0mself\u001b[0m\u001b[0;34m.\u001b[0m\u001b[0m_iterator\u001b[0m \u001b[0;34m=\u001b[0m \u001b[0mself\u001b[0m\u001b[0;34m.\u001b[0m\u001b[0m_message_generator_v2\u001b[0m\u001b[0;34m(\u001b[0m\u001b[0;34m)\u001b[0m\u001b[0;34m\u001b[0m\u001b[0;34m\u001b[0m\u001b[0m\n\u001b[1;32m   1200\u001b[0m             \u001b[0;32mtry\u001b[0m\u001b[0;34m:\u001b[0m\u001b[0;34m\u001b[0m\u001b[0;34m\u001b[0m\u001b[0m\n\u001b[0;32m-> 1201\u001b[0;31m                 \u001b[0;32mreturn\u001b[0m \u001b[0mnext\u001b[0m\u001b[0;34m(\u001b[0m\u001b[0mself\u001b[0m\u001b[0;34m.\u001b[0m\u001b[0m_iterator\u001b[0m\u001b[0;34m)\u001b[0m\u001b[0;34m\u001b[0m\u001b[0;34m\u001b[0m\u001b[0m\n\u001b[0m\u001b[1;32m   1202\u001b[0m             \u001b[0;32mexcept\u001b[0m \u001b[0mStopIteration\u001b[0m\u001b[0;34m:\u001b[0m\u001b[0;34m\u001b[0m\u001b[0;34m\u001b[0m\u001b[0m\n\u001b[1;32m   1203\u001b[0m                 \u001b[0mself\u001b[0m\u001b[0;34m.\u001b[0m\u001b[0m_iterator\u001b[0m \u001b[0;34m=\u001b[0m \u001b[0;32mNone\u001b[0m\u001b[0;34m\u001b[0m\u001b[0;34m\u001b[0m\u001b[0m\n",
            "\u001b[0;32m/usr/local/lib/python3.10/dist-packages/kafka/consumer/group.py\u001b[0m in \u001b[0;36m_message_generator_v2\u001b[0;34m(self)\u001b[0m\n\u001b[1;32m   1114\u001b[0m     \u001b[0;32mdef\u001b[0m \u001b[0m_message_generator_v2\u001b[0m\u001b[0;34m(\u001b[0m\u001b[0mself\u001b[0m\u001b[0;34m)\u001b[0m\u001b[0;34m:\u001b[0m\u001b[0;34m\u001b[0m\u001b[0;34m\u001b[0m\u001b[0m\n\u001b[1;32m   1115\u001b[0m         \u001b[0mtimeout_ms\u001b[0m \u001b[0;34m=\u001b[0m \u001b[0;36m1000\u001b[0m \u001b[0;34m*\u001b[0m \u001b[0;34m(\u001b[0m\u001b[0mself\u001b[0m\u001b[0;34m.\u001b[0m\u001b[0m_consumer_timeout\u001b[0m \u001b[0;34m-\u001b[0m \u001b[0mtime\u001b[0m\u001b[0;34m.\u001b[0m\u001b[0mtime\u001b[0m\u001b[0;34m(\u001b[0m\u001b[0;34m)\u001b[0m\u001b[0;34m)\u001b[0m\u001b[0;34m\u001b[0m\u001b[0;34m\u001b[0m\u001b[0m\n\u001b[0;32m-> 1116\u001b[0;31m         \u001b[0mrecord_map\u001b[0m \u001b[0;34m=\u001b[0m \u001b[0mself\u001b[0m\u001b[0;34m.\u001b[0m\u001b[0mpoll\u001b[0m\u001b[0;34m(\u001b[0m\u001b[0mtimeout_ms\u001b[0m\u001b[0;34m=\u001b[0m\u001b[0mtimeout_ms\u001b[0m\u001b[0;34m,\u001b[0m \u001b[0mupdate_offsets\u001b[0m\u001b[0;34m=\u001b[0m\u001b[0;32mFalse\u001b[0m\u001b[0;34m)\u001b[0m\u001b[0;34m\u001b[0m\u001b[0;34m\u001b[0m\u001b[0m\n\u001b[0m\u001b[1;32m   1117\u001b[0m         \u001b[0;32mfor\u001b[0m \u001b[0mtp\u001b[0m\u001b[0;34m,\u001b[0m \u001b[0mrecords\u001b[0m \u001b[0;32min\u001b[0m \u001b[0msix\u001b[0m\u001b[0;34m.\u001b[0m\u001b[0miteritems\u001b[0m\u001b[0;34m(\u001b[0m\u001b[0mrecord_map\u001b[0m\u001b[0;34m)\u001b[0m\u001b[0;34m:\u001b[0m\u001b[0;34m\u001b[0m\u001b[0;34m\u001b[0m\u001b[0m\n\u001b[1;32m   1118\u001b[0m             \u001b[0;31m# Generators are stateful, and it is possible that the tp / records\u001b[0m\u001b[0;34m\u001b[0m\u001b[0;34m\u001b[0m\u001b[0m\n",
            "\u001b[0;32m/usr/local/lib/python3.10/dist-packages/kafka/consumer/group.py\u001b[0m in \u001b[0;36mpoll\u001b[0;34m(self, timeout_ms, max_records, update_offsets)\u001b[0m\n\u001b[1;32m    653\u001b[0m         \u001b[0mremaining\u001b[0m \u001b[0;34m=\u001b[0m \u001b[0mtimeout_ms\u001b[0m\u001b[0;34m\u001b[0m\u001b[0;34m\u001b[0m\u001b[0m\n\u001b[1;32m    654\u001b[0m         \u001b[0;32mwhile\u001b[0m \u001b[0;32mTrue\u001b[0m\u001b[0;34m:\u001b[0m\u001b[0;34m\u001b[0m\u001b[0;34m\u001b[0m\u001b[0m\n\u001b[0;32m--> 655\u001b[0;31m             \u001b[0mrecords\u001b[0m \u001b[0;34m=\u001b[0m \u001b[0mself\u001b[0m\u001b[0;34m.\u001b[0m\u001b[0m_poll_once\u001b[0m\u001b[0;34m(\u001b[0m\u001b[0mremaining\u001b[0m\u001b[0;34m,\u001b[0m \u001b[0mmax_records\u001b[0m\u001b[0;34m,\u001b[0m \u001b[0mupdate_offsets\u001b[0m\u001b[0;34m=\u001b[0m\u001b[0mupdate_offsets\u001b[0m\u001b[0;34m)\u001b[0m\u001b[0;34m\u001b[0m\u001b[0;34m\u001b[0m\u001b[0m\n\u001b[0m\u001b[1;32m    656\u001b[0m             \u001b[0;32mif\u001b[0m \u001b[0mrecords\u001b[0m\u001b[0;34m:\u001b[0m\u001b[0;34m\u001b[0m\u001b[0;34m\u001b[0m\u001b[0m\n\u001b[1;32m    657\u001b[0m                 \u001b[0;32mreturn\u001b[0m \u001b[0mrecords\u001b[0m\u001b[0;34m\u001b[0m\u001b[0;34m\u001b[0m\u001b[0m\n",
            "\u001b[0;32m/usr/local/lib/python3.10/dist-packages/kafka/consumer/group.py\u001b[0m in \u001b[0;36m_poll_once\u001b[0;34m(self, timeout_ms, max_records, update_offsets)\u001b[0m\n\u001b[1;32m    700\u001b[0m \u001b[0;34m\u001b[0m\u001b[0m\n\u001b[1;32m    701\u001b[0m         \u001b[0mtimeout_ms\u001b[0m \u001b[0;34m=\u001b[0m \u001b[0mmin\u001b[0m\u001b[0;34m(\u001b[0m\u001b[0mtimeout_ms\u001b[0m\u001b[0;34m,\u001b[0m \u001b[0mself\u001b[0m\u001b[0;34m.\u001b[0m\u001b[0m_coordinator\u001b[0m\u001b[0;34m.\u001b[0m\u001b[0mtime_to_next_poll\u001b[0m\u001b[0;34m(\u001b[0m\u001b[0;34m)\u001b[0m \u001b[0;34m*\u001b[0m \u001b[0;36m1000\u001b[0m\u001b[0;34m)\u001b[0m\u001b[0;34m\u001b[0m\u001b[0;34m\u001b[0m\u001b[0m\n\u001b[0;32m--> 702\u001b[0;31m         \u001b[0mself\u001b[0m\u001b[0;34m.\u001b[0m\u001b[0m_client\u001b[0m\u001b[0;34m.\u001b[0m\u001b[0mpoll\u001b[0m\u001b[0;34m(\u001b[0m\u001b[0mtimeout_ms\u001b[0m\u001b[0;34m=\u001b[0m\u001b[0mtimeout_ms\u001b[0m\u001b[0;34m)\u001b[0m\u001b[0;34m\u001b[0m\u001b[0;34m\u001b[0m\u001b[0m\n\u001b[0m\u001b[1;32m    703\u001b[0m         \u001b[0;31m# after the long poll, we should check whether the group needs to rebalance\u001b[0m\u001b[0;34m\u001b[0m\u001b[0;34m\u001b[0m\u001b[0m\n\u001b[1;32m    704\u001b[0m         \u001b[0;31m# prior to returning data so that the group can stabilize faster\u001b[0m\u001b[0;34m\u001b[0m\u001b[0;34m\u001b[0m\u001b[0m\n",
            "\u001b[0;32m/usr/local/lib/python3.10/dist-packages/kafka/client_async.py\u001b[0m in \u001b[0;36mpoll\u001b[0;34m(self, timeout_ms, future)\u001b[0m\n\u001b[1;32m    600\u001b[0m                     \u001b[0mtimeout\u001b[0m \u001b[0;34m=\u001b[0m \u001b[0mmax\u001b[0m\u001b[0;34m(\u001b[0m\u001b[0;36m0\u001b[0m\u001b[0;34m,\u001b[0m \u001b[0mtimeout\u001b[0m\u001b[0;34m)\u001b[0m  \u001b[0;31m# avoid negative timeouts\u001b[0m\u001b[0;34m\u001b[0m\u001b[0;34m\u001b[0m\u001b[0m\n\u001b[1;32m    601\u001b[0m \u001b[0;34m\u001b[0m\u001b[0m\n\u001b[0;32m--> 602\u001b[0;31m                 \u001b[0mself\u001b[0m\u001b[0;34m.\u001b[0m\u001b[0m_poll\u001b[0m\u001b[0;34m(\u001b[0m\u001b[0mtimeout\u001b[0m \u001b[0;34m/\u001b[0m \u001b[0;36m1000\u001b[0m\u001b[0;34m)\u001b[0m\u001b[0;34m\u001b[0m\u001b[0;34m\u001b[0m\u001b[0m\n\u001b[0m\u001b[1;32m    603\u001b[0m \u001b[0;34m\u001b[0m\u001b[0m\n\u001b[1;32m    604\u001b[0m             \u001b[0;31m# called without the lock to avoid deadlock potential\u001b[0m\u001b[0;34m\u001b[0m\u001b[0;34m\u001b[0m\u001b[0m\n",
            "\u001b[0;32m/usr/local/lib/python3.10/dist-packages/kafka/client_async.py\u001b[0m in \u001b[0;36m_poll\u001b[0;34m(self, timeout)\u001b[0m\n\u001b[1;32m    632\u001b[0m \u001b[0;34m\u001b[0m\u001b[0m\n\u001b[1;32m    633\u001b[0m         \u001b[0mstart_select\u001b[0m \u001b[0;34m=\u001b[0m \u001b[0mtime\u001b[0m\u001b[0;34m.\u001b[0m\u001b[0mtime\u001b[0m\u001b[0;34m(\u001b[0m\u001b[0;34m)\u001b[0m\u001b[0;34m\u001b[0m\u001b[0;34m\u001b[0m\u001b[0m\n\u001b[0;32m--> 634\u001b[0;31m         \u001b[0mready\u001b[0m \u001b[0;34m=\u001b[0m \u001b[0mself\u001b[0m\u001b[0;34m.\u001b[0m\u001b[0m_selector\u001b[0m\u001b[0;34m.\u001b[0m\u001b[0mselect\u001b[0m\u001b[0;34m(\u001b[0m\u001b[0mtimeout\u001b[0m\u001b[0;34m)\u001b[0m\u001b[0;34m\u001b[0m\u001b[0;34m\u001b[0m\u001b[0m\n\u001b[0m\u001b[1;32m    635\u001b[0m         \u001b[0mend_select\u001b[0m \u001b[0;34m=\u001b[0m \u001b[0mtime\u001b[0m\u001b[0;34m.\u001b[0m\u001b[0mtime\u001b[0m\u001b[0;34m(\u001b[0m\u001b[0;34m)\u001b[0m\u001b[0;34m\u001b[0m\u001b[0;34m\u001b[0m\u001b[0m\n\u001b[1;32m    636\u001b[0m         \u001b[0;32mif\u001b[0m \u001b[0mself\u001b[0m\u001b[0;34m.\u001b[0m\u001b[0m_sensors\u001b[0m\u001b[0;34m:\u001b[0m\u001b[0;34m\u001b[0m\u001b[0;34m\u001b[0m\u001b[0m\n",
            "\u001b[0;32m/usr/lib/python3.10/selectors.py\u001b[0m in \u001b[0;36mselect\u001b[0;34m(self, timeout)\u001b[0m\n\u001b[1;32m    467\u001b[0m             \u001b[0mready\u001b[0m \u001b[0;34m=\u001b[0m \u001b[0;34m[\u001b[0m\u001b[0;34m]\u001b[0m\u001b[0;34m\u001b[0m\u001b[0;34m\u001b[0m\u001b[0m\n\u001b[1;32m    468\u001b[0m             \u001b[0;32mtry\u001b[0m\u001b[0;34m:\u001b[0m\u001b[0;34m\u001b[0m\u001b[0;34m\u001b[0m\u001b[0m\n\u001b[0;32m--> 469\u001b[0;31m                 \u001b[0mfd_event_list\u001b[0m \u001b[0;34m=\u001b[0m \u001b[0mself\u001b[0m\u001b[0;34m.\u001b[0m\u001b[0m_selector\u001b[0m\u001b[0;34m.\u001b[0m\u001b[0mpoll\u001b[0m\u001b[0;34m(\u001b[0m\u001b[0mtimeout\u001b[0m\u001b[0;34m,\u001b[0m \u001b[0mmax_ev\u001b[0m\u001b[0;34m)\u001b[0m\u001b[0;34m\u001b[0m\u001b[0;34m\u001b[0m\u001b[0m\n\u001b[0m\u001b[1;32m    470\u001b[0m             \u001b[0;32mexcept\u001b[0m \u001b[0mInterruptedError\u001b[0m\u001b[0;34m:\u001b[0m\u001b[0;34m\u001b[0m\u001b[0;34m\u001b[0m\u001b[0m\n\u001b[1;32m    471\u001b[0m                 \u001b[0;32mreturn\u001b[0m \u001b[0mready\u001b[0m\u001b[0;34m\u001b[0m\u001b[0;34m\u001b[0m\u001b[0m\n",
            "\u001b[0;31mKeyboardInterrupt\u001b[0m: "
          ]
        }
      ]
    },
    {
      "cell_type": "code",
      "source": [],
      "metadata": {
        "id": "BYqEf4ENtFnY"
      },
      "execution_count": null,
      "outputs": []
    }
  ]
}
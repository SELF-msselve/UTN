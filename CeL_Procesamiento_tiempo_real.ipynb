{
  "cells": [
    {
      "cell_type": "markdown",
      "metadata": {
        "id": "view-in-github",
        "colab_type": "text"
      },
      "source": [
        "<a href=\"https://colab.research.google.com/github/SELF-msselve/UTN/blob/main/CeL_Procesamiento_tiempo_real.ipynb\" target=\"_parent\"><img src=\"https://colab.research.google.com/assets/colab-badge.svg\" alt=\"Open In Colab\"/></a>"
      ]
    },
    {
      "cell_type": "code",
      "execution_count": null,
      "metadata": {
        "colab": {
          "base_uri": "https://localhost:8080/"
        },
        "id": "_3NFDTerh3eV",
        "outputId": "1c14ee2a-42b9-4426-d8d2-a0bcd1a7611b"
      },
      "outputs": [
        {
          "output_type": "stream",
          "name": "stdout",
          "text": [
            "Collecting confluent_kafka\n",
            "  Downloading confluent_kafka-2.3.0-cp310-cp310-manylinux_2_17_x86_64.manylinux2014_x86_64.whl (4.0 MB)\n",
            "\u001b[2K     \u001b[90m━━━━━━━━━━━━━━━━━━━━━━━━━━━━━━━━━━━━━━━━\u001b[0m \u001b[32m4.0/4.0 MB\u001b[0m \u001b[31m16.4 MB/s\u001b[0m eta \u001b[36m0:00:00\u001b[0m\n",
            "\u001b[?25hInstalling collected packages: confluent_kafka\n",
            "Successfully installed confluent_kafka-2.3.0\n",
            "Collecting faker\n",
            "  Downloading Faker-24.4.0-py3-none-any.whl (1.8 MB)\n",
            "\u001b[2K     \u001b[90m━━━━━━━━━━━━━━━━━━━━━━━━━━━━━━━━━━━━━━━━\u001b[0m \u001b[32m1.8/1.8 MB\u001b[0m \u001b[31m2.7 MB/s\u001b[0m eta \u001b[36m0:00:00\u001b[0m\n",
            "\u001b[?25hRequirement already satisfied: python-dateutil>=2.4 in /usr/local/lib/python3.10/dist-packages (from faker) (2.8.2)\n",
            "Requirement already satisfied: six>=1.5 in /usr/local/lib/python3.10/dist-packages (from python-dateutil>=2.4->faker) (1.16.0)\n",
            "Installing collected packages: faker\n",
            "Successfully installed faker-24.4.0\n"
          ]
        }
      ],
      "source": [
        "!pip install confluent_kafka\n",
        "!pip install faker"
      ]
    },
    {
      "cell_type": "code",
      "execution_count": null,
      "metadata": {
        "id": "W4g3sWn2h3eY"
      },
      "outputs": [],
      "source": [
        "import json\n",
        "from datetime import timezone\n",
        "from random import choice, randint\n",
        "from time import sleep\n",
        "\n",
        "from confluent_kafka import Producer\n",
        "from faker import Faker"
      ]
    },
    {
      "cell_type": "code",
      "execution_count": null,
      "metadata": {
        "colab": {
          "base_uri": "https://localhost:8080/",
          "height": 198
        },
        "id": "fPrP0_KGh3eZ",
        "outputId": "54c55e35-3c95-470d-a674-22aca9c9d1f0"
      },
      "outputs": [
        {
          "output_type": "error",
          "ename": "KafkaException",
          "evalue": "KafkaError{code=_INVALID_ARG,val=-186,str=\"Failed to create producer: sasl.username and sasl.password must be set\"}",
          "traceback": [
            "\u001b[0;31m---------------------------------------------------------------------------\u001b[0m",
            "\u001b[0;31mKafkaException\u001b[0m                            Traceback (most recent call last)",
            "\u001b[0;32m<ipython-input-9-d4a830bda678>\u001b[0m in \u001b[0;36m<cell line: 10>\u001b[0;34m()\u001b[0m\n\u001b[1;32m      8\u001b[0m     \u001b[0;34m'sasl.password'\u001b[0m\u001b[0;34m:\u001b[0m \u001b[0;34m''\u001b[0m\u001b[0;34m\u001b[0m\u001b[0;34m\u001b[0m\u001b[0m\n\u001b[1;32m      9\u001b[0m }\n\u001b[0;32m---> 10\u001b[0;31m \u001b[0mproducer\u001b[0m \u001b[0;34m=\u001b[0m \u001b[0mProducer\u001b[0m\u001b[0;34m(\u001b[0m\u001b[0mkafka_config\u001b[0m\u001b[0;34m)\u001b[0m\u001b[0;34m\u001b[0m\u001b[0;34m\u001b[0m\u001b[0m\n\u001b[0m",
            "\u001b[0;31mKafkaException\u001b[0m: KafkaError{code=_INVALID_ARG,val=-186,str=\"Failed to create producer: sasl.username and sasl.password must be set\"}"
          ]
        }
      ],
      "source": [
        "fake = Faker()\n",
        "\n",
        "kafka_config = {\n",
        "    'bootstrap.servers': '',\n",
        "    'sasl.mechanism': 'SCRAM-SHA-256',\n",
        "    'security.protocol': 'SASL_SSL',\n",
        "    'sasl.username': '',\n",
        "    'sasl.password': ''\n",
        "}\n",
        "producer = Producer(kafka_config)"
      ]
    },
    {
      "cell_type": "code",
      "execution_count": null,
      "metadata": {
        "id": "AERSeUSXh3eZ"
      },
      "outputs": [],
      "source": [
        "def generate_fake_log(fake):\n",
        "    \"\"\"\n",
        "    Generar un registro de log ficticio\n",
        "\n",
        "    Args:\n",
        "        fake: instancia de Faker\n",
        "    Returns:\n",
        "        str: registro de log ficticio\n",
        "    \"\"\"\n",
        "    ip = fake.ipv4()\n",
        "    tstamp = fake.date_time_between(\n",
        "        start_date='-1m', end_date='now', tzinfo=timezone.utc)\n",
        "    request = f\"{choice(['GET', 'POST'])} {fake.uri_path()}\"\n",
        "    status_code = choice([200, 401, 403, 404, 500])\n",
        "    size = randint(2**4, 2**16)\n",
        "    log = f'{tstamp.strftime(\"%Y-%m-%d %H:%M:%S\")} - {ip} - {request} - {status_code} - {size}'\n",
        "    return log\n",
        "\n",
        "def generate_fake_transaction(fake):\n",
        "    \"\"\"\n",
        "    Generar una transacción ficticia de tarjeta de crédito\n",
        "\n",
        "    Args:\n",
        "        fake: instancia de Faker\n",
        "    Returns:\n",
        "        dict: transacción ficticia\n",
        "    \"\"\"\n",
        "    transaction = {\n",
        "        'cc_no': fake.credit_card_number(card_type=None),\n",
        "        'cc_provider': fake.credit_card_provider(card_type=None),\n",
        "        'cc_expire': fake.credit_card_expire(start='now', end='+10y', date_format='%m/%y'),\n",
        "        'amount': randint(10, 1000),\n",
        "        'currency': 'USD',\n",
        "        'merchant': fake.company(),\n",
        "        'timestamp': fake.date_time_between(start_date='-6m', end_date='now', tzinfo=timezone.utc).isoformat()\n",
        "    }\n",
        "    return transaction\n",
        "\n",
        "def delivery_callback(err, msg):\n",
        "    if err is not None:\n",
        "        print(f'Message failed delivery: {err}')\n",
        "    else:\n",
        "        print(f'Message delivered to {msg.topic()}: {msg.value()}')"
      ]
    },
    {
      "cell_type": "code",
      "execution_count": null,
      "metadata": {
        "colab": {
          "base_uri": "https://localhost:8080/",
          "height": 36
        },
        "id": "s8PBYHz7h3ea",
        "outputId": "698b0a3b-4d53-4d18-dd27-bb0f6a565b5d"
      },
      "outputs": [
        {
          "output_type": "execute_result",
          "data": {
            "text/plain": [
              "'2024-03-27 01:30:27 - 170.159.108.35 - GET tag - 200 - 11562'"
            ],
            "application/vnd.google.colaboratory.intrinsic+json": {
              "type": "string"
            }
          },
          "metadata": {},
          "execution_count": 11
        }
      ],
      "source": [
        "generate_fake_log(fake)"
      ]
    },
    {
      "cell_type": "code",
      "execution_count": null,
      "metadata": {
        "colab": {
          "base_uri": "https://localhost:8080/"
        },
        "id": "5mXaKMcVh3ea",
        "outputId": "9f445f17-ed82-448b-9405-a6d8cd849006"
      },
      "outputs": [
        {
          "output_type": "execute_result",
          "data": {
            "text/plain": [
              "{'cc_no': '180062771891530',\n",
              " 'cc_provider': 'VISA 16 digit',\n",
              " 'cc_expire': '03/29',\n",
              " 'amount': 894,\n",
              " 'currency': 'USD',\n",
              " 'merchant': 'Meadows-Edwards',\n",
              " 'timestamp': '2024-03-27T01:26:30.270890+00:00'}"
            ]
          },
          "metadata": {},
          "execution_count": 12
        }
      ],
      "source": [
        "generate_fake_transaction(fake)"
      ]
    },
    {
      "cell_type": "code",
      "execution_count": null,
      "metadata": {
        "id": "A1Ng7Of3h3eb",
        "outputId": "b13278bd-cb6c-4f20-a903-b5a3d6e90784"
      },
      "outputs": [
        {
          "name": "stdout",
          "output_type": "stream",
          "text": [
            "Message delivered to web_server_logs: b'2024-03-24 22:49:15 - 109.41.168.219 - GET posts - 404 - 40221'\n",
            "Message delivered to web_server_logs: b'2024-03-24 22:49:33 - 32.236.62.179 - GET main/app/wp-content - 401 - 34458'\n",
            "Message delivered to web_server_logs: b'2024-03-24 22:49:28 - 105.137.29.239 - PUT posts/category/app - 403 - 18663'\n",
            "Message delivered to web_server_logs: b'2024-03-24 22:49:20 - 103.227.38.178 - GET categories/list/list - 200 - 46758'\n",
            "Message delivered to web_server_logs: b'2024-03-24 22:48:55 - 34.69.234.109 - POST categories/wp-content/search - 200 - 50072'\n",
            "Message delivered to web_server_logs: b'2024-03-24 22:48:59 - 86.142.213.12 - POST app/list/main - 403 - 509'\n",
            "Message delivered to web_server_logs: b'2024-03-24 22:49:03 - 213.229.25.22 - DETELE list - 403 - 56478'\n",
            "Message delivered to web_server_logs: b'2024-03-24 22:48:53 - 222.192.73.179 - POST category/blog - 401 - 46476'\n"
          ]
        }
      ],
      "source": [
        "for i in range(randint(5, 10)):\n",
        "    log_record = generate_fake_log(fake)\n",
        "    producer.produce(\n",
        "        'web_server_logs',\n",
        "        log_record.encode('utf-8'),\n",
        "        callback=delivery_callback\n",
        "    )\n",
        "    producer.poll(0)"
      ]
    },
    {
      "cell_type": "code",
      "execution_count": null,
      "metadata": {
        "id": "XP0OqHPhh3eb"
      },
      "outputs": [],
      "source": [
        "for i in range(randint(1, 5)):\n",
        "    transaction_record = generate_fake_transaction(fake)\n",
        "    producer.produce(\n",
        "        'credit_card_transactions',\n",
        "        json.dumps(transaction_record).encode('utf-8'),\n",
        "        callback=delivery_callback\n",
        "    )\n",
        "    producer.poll(0)"
      ]
    }
  ],
  "metadata": {
    "kernelspec": {
      "display_name": "dataenv",
      "language": "python",
      "name": "python3"
    },
    "language_info": {
      "codemirror_mode": {
        "name": "ipython",
        "version": 3
      },
      "file_extension": ".py",
      "mimetype": "text/x-python",
      "name": "python",
      "nbconvert_exporter": "python",
      "pygments_lexer": "ipython3",
      "version": "3.10.9"
    },
    "colab": {
      "provenance": [],
      "include_colab_link": true
    }
  },
  "nbformat": 4,
  "nbformat_minor": 0
}